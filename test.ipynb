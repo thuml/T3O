{
 "cells": [
  {
   "cell_type": "code",
   "id": "initial_id",
   "metadata": {
    "collapsed": true,
    "ExecuteTime": {
     "end_time": "2025-02-20T08:38:00.378041Z",
     "start_time": "2025-02-20T08:38:00.370135Z"
    }
   },
   "source": [
    "import numpy as np\n",
    "\n",
    "arr = np.array([[1, 0, 3], [0, 5, 0]])\n",
    "indices = np.where((arr) > 0)\n",
    "print(indices)\n",
    "# 输出：(array([0, 0, 1]), array([0, 2, 1]))"
   ],
   "outputs": [
    {
     "name": "stdout",
     "output_type": "stream",
     "text": [
      "(array([0, 0, 1]), array([0, 2, 1]))\n"
     ]
    }
   ],
   "execution_count": 18
  },
  {
   "metadata": {
    "ExecuteTime": {
     "end_time": "2025-02-20T08:34:02.358586Z",
     "start_time": "2025-02-20T08:34:02.348758Z"
    }
   },
   "cell_type": "code",
   "source": "arr-1",
   "id": "3b2ed86eb18ba165",
   "outputs": [
    {
     "data": {
      "text/plain": [
       "array([[ 0, -1,  2],\n",
       "       [-1,  4, -1]])"
      ]
     },
     "execution_count": 11,
     "metadata": {},
     "output_type": "execute_result"
    }
   ],
   "execution_count": 11
  },
  {
   "metadata": {
    "ExecuteTime": {
     "end_time": "2025-02-20T08:37:55.227272Z",
     "start_time": "2025-02-20T08:37:55.222287Z"
    }
   },
   "cell_type": "code",
   "source": [
    "import torch\n",
    "\n",
    "tensor = torch.tensor([[1, 0, 3], [0, 5, 0]])\n",
    "indices = torch.where(tensor>0)\n",
    "print(indices)\n",
    "# 输出：\n",
    "# tensor([[0, 0],\n",
    "#         [0, 2],\n",
    "#         [1, 1]])"
   ],
   "id": "832443fb10aa6128",
   "outputs": [
    {
     "name": "stdout",
     "output_type": "stream",
     "text": [
      "(tensor([0, 0, 1]), tensor([0, 2, 1]))\n"
     ]
    }
   ],
   "execution_count": 17
  },
  {
   "metadata": {
    "ExecuteTime": {
     "end_time": "2025-02-20T08:33:46.323613Z",
     "start_time": "2025-02-20T08:33:46.318802Z"
    }
   },
   "cell_type": "code",
   "source": "tensor-1",
   "id": "2e3d80c52f9ce238",
   "outputs": [
    {
     "data": {
      "text/plain": [
       "tensor([[ 0, -1,  2],\n",
       "        [-1,  4, -1]])"
      ]
     },
     "execution_count": 10,
     "metadata": {},
     "output_type": "execute_result"
    }
   ],
   "execution_count": 10
  }
 ],
 "metadata": {
  "kernelspec": {
   "display_name": "Python 3",
   "language": "python",
   "name": "python3"
  },
  "language_info": {
   "codemirror_mode": {
    "name": "ipython",
    "version": 2
   },
   "file_extension": ".py",
   "mimetype": "text/x-python",
   "name": "python",
   "nbconvert_exporter": "python",
   "pygments_lexer": "ipython2",
   "version": "2.7.6"
  }
 },
 "nbformat": 4,
 "nbformat_minor": 5
}
